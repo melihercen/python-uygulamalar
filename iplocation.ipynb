{
 "cells": [
  {
   "cell_type": "code",
   "execution_count": 2,
   "id": "4000142f",
   "metadata": {
    "scrolled": true
   },
   "outputs": [
    {
     "ename": "SyntaxError",
     "evalue": "invalid syntax (2601303398.py, line 8)",
     "output_type": "error",
     "traceback": [
      "\u001b[1;36m  Cell \u001b[1;32mIn[2], line 8\u001b[1;36m\u001b[0m\n\u001b[1;33m    'authorization': \"apikey ****\",\u001b[0m\n\u001b[1;37m                   ^\u001b[0m\n\u001b[1;31mSyntaxError\u001b[0m\u001b[1;31m:\u001b[0m invalid syntax\n"
     ]
    }
   ],
   "source": [
    "import http.client\n",
    "import json\n",
    "#api collectapi den alınmıştır\n",
    "conn = http.client.HTTPSConnection(\"api.collectapi.com\")\n",
    "\n",
    "headers = {\n",
    "    'content-type': \"application/json\",\n",
    "    'authorization': \"apikey ****\"\n",
    "    }\n",
    "\n",
    "\n",
    "conn.request(\"GET\", f\"/ip/ipToLocation?data.ip={ip_adress}\", headers=headers)\n",
    "\n",
    "ip_adress=input(\"ip address: \")\n",
    "\n",
    "#Yanıt alma ve içeriğini okuma\n",
    "#Getting answer and read contents\n",
    "res = conn.getresponse()\n",
    "data = res.read()\n",
    "#json yanıtını python sözlüğüne donuştürme\n",
    "#conversion the json response to python dictionary\n",
    "ip_dict=json.loads(data)\n",
    "#Sozlukten result anahatrina sahip olan kısmı al\n",
    "#Get the part from the dictionary that has the keyword result \n",
    "results=ip_dict.get(\"result\",{})\n",
    "\n",
    "ipv=results.get(\"type\")\n",
    "ip=results.get(\"ip\") \n",
    "country=results.get(\"country_name\")\n",
    "city=results.get(\"city\")\n",
    "#eğer ülke ve şehir de değer donmuyorsa ip yanliş\n",
    "#if country and city value is empty the ip address is wrong\n",
    "if country==city:\n",
    "    print(\"Check the ip address.\")\n",
    "else:\n",
    "    \n",
    "    print(f\"ip version={ipv}\\ncountry={country}\\ncity={city}\")    \n",
    "        "
   ]
  },
  {
   "cell_type": "code",
   "execution_count": null,
   "id": "334be887",
   "metadata": {},
   "outputs": [],
   "source": []
  }
 ],
 "metadata": {
  "kernelspec": {
   "display_name": "Python 3 (ipykernel)",
   "language": "python",
   "name": "python3"
  },
  "language_info": {
   "codemirror_mode": {
    "name": "ipython",
    "version": 3
   },
   "file_extension": ".py",
   "mimetype": "text/x-python",
   "name": "python",
   "nbconvert_exporter": "python",
   "pygments_lexer": "ipython3",
   "version": "3.10.9"
  }
 },
 "nbformat": 4,
 "nbformat_minor": 5
}

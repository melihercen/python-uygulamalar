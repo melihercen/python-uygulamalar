{
 "cells": [
  {
   "cell_type": "code",
   "execution_count": null,
   "id": "510a63ec",
   "metadata": {},
   "outputs": [],
   "source": [
    "from random import randint\n",
    "#Bilgisayarın 1 ile 10 arasında bir sayı seçmesi \n",
    "rand=randint(1,10)\n",
    "sayac=0\n",
    "print(\"Merhaba sayı tahmın oyunun hoşgeldiniz\\nOyundan çıkmak için'exit'yazınız\")\n",
    "while True:\n",
    "    sayac+=1\n",
    "    sayi=input(\"1-10 arasında bir sayı giriniz\")\n",
    "    #exit yazınca uygulamadan cıkılır\n",
    "    if sayi=='exit':\n",
    "        print(\"Oyundan çıkılıyor...\")\n",
    "        break   \n",
    "    sayi=int(sayi)\n",
    "    if sayi>10 or sayi<1:\n",
    "        print(\"Geçersiz bir sayı gırdınız\\nÇıkılıyor..\")\n",
    "        break\n",
    "    elif sayi<rand:\n",
    "        print(\"Daha yüksek bir sayı girin\")\n",
    "        continue\n",
    "    elif sayi>rand:\n",
    "        print(\"Daha küçük bir sayı girin\")\n",
    "        continue\n",
    "    elif sayi==rand:\n",
    "        print(\"Tebrikler Doğru Bildin\")\n",
    "        #Bilgisayarın seçtiği sayıyı bize gosterir\n",
    "        print(\"Rastgele seçilen sayı {0}\".format(rand))\n",
    "        #Kullanıcın kaçıncı tahminde sayıyı bulduğunu gosterir\n",
    "        print(\"Tahmin sayınız {0}\".format(sayac))\n",
    "        break\n",
    "    \n",
    "        \n",
    "    "
   ]
  }
 ],
 "metadata": {
  "kernelspec": {
   "display_name": "Python 3 (ipykernel)",
   "language": "python",
   "name": "python3"
  },
  "language_info": {
   "codemirror_mode": {
    "name": "ipython",
    "version": 3
   },
   "file_extension": ".py",
   "mimetype": "text/x-python",
   "name": "python",
   "nbconvert_exporter": "python",
   "pygments_lexer": "ipython3",
   "version": "3.10.9"
  }
 },
 "nbformat": 4,
 "nbformat_minor": 5
}
